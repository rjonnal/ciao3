{
 "cells": [
  {
   "cell_type": "code",
   "execution_count": 1,
   "id": "89d05b20",
   "metadata": {},
   "outputs": [
    {
     "name": "stdout",
     "output_type": "stream",
     "text": [
      "No module named 'pypylon'\n",
      "No module named 'ximea'\n",
      "[Errno 17] File exists: '.gui_settings'\n",
      "Loading cached actuator basis set...\n",
      "Loading cached zernike basis set...\n"
     ]
    }
   ],
   "source": [
    "import sys,os\n",
    "import ciao_config as ccfg\n",
    "from matplotlib import pyplot as plt\n",
    "import numpy as np\n",
    "from ciao3.components.simulator import Simulator\n",
    "from ciao3.components.sensors import Sensor\n",
    "from ciao3.components.loops import Loop\n",
    "from ciao3.components import cameras\n",
    "from ciao3.components.mirrors import Mirror\n",
    "from ciao3.components.ui import UI\n",
    "\n",
    "if ccfg.simulate:\n",
    "    sim = Simulator()\n",
    "    sensor = Sensor(sim)\n",
    "    mirror = sim\n",
    "else:\n",
    "    cam = cameras.get_camera()\n",
    "    mirror = Mirror()\n",
    "    sensor = Sensor(cam)\n"
   ]
  },
  {
   "cell_type": "code",
   "execution_count": null,
   "id": "81356dac",
   "metadata": {},
   "outputs": [],
   "source": [
    "sensor.pseudocalibrate()\n"
   ]
  },
  {
   "cell_type": "code",
   "execution_count": null,
   "id": "e9510cd3",
   "metadata": {},
   "outputs": [],
   "source": []
  }
 ],
 "metadata": {
  "kernelspec": {
   "display_name": "Python 3 (ipykernel)",
   "language": "python",
   "name": "python3"
  },
  "language_info": {
   "codemirror_mode": {
    "name": "ipython",
    "version": 3
   },
   "file_extension": ".py",
   "mimetype": "text/x-python",
   "name": "python",
   "nbconvert_exporter": "python",
   "pygments_lexer": "ipython3",
   "version": "3.11.4"
  }
 },
 "nbformat": 4,
 "nbformat_minor": 5
}
