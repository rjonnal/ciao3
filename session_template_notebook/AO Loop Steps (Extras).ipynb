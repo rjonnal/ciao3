{
 "cells": [
  {
   "cell_type": "code",
   "execution_count": null,
   "metadata": {},
   "outputs": [],
   "source": [
    "# Now let's create a near-exact copy of CIAO's centroiding function, but written in\n",
    "# Python instead of Cython.\n",
    "#def centroid(spots,x_ref,y_ref,half_width,n_iterations,iterative_step,background,do_plots=False):\n",
    "def centroid_ciao(spots,x_ref,y_ref,half_width,n_iterations,iteration_step,background):\n",
    "\n",
    "    sy = spots.shape[0]\n",
    "    sx = spots.shape[1]\n",
    "\n",
    "    # Populate x_out,y_out with the sb centers, for starters; this allows\n",
    "    # us to use the out arrays as places to both read the current sb center\n",
    "    # (in the case of multiple iterations, where we want to recenter the\n",
    "    # sb on each iteration\n",
    "    # This serves an additional purpose--preventing sb_x_vec or sb_y_vec from\n",
    "    # being altered; this is critical, as these represent the loop's search box\n",
    "    # centers and reference coordinates.\n",
    "    x_out = x_ref\n",
    "    y_out = y_ref\n",
    "    \n",
    "    # first, we iterate through the number of iterations\n",
    "    for k_iteration in range(0,n_iterations):\n",
    "\n",
    "        xprod = 0.0\n",
    "        yprod = 0.0\n",
    "        intensity = 0.0\n",
    "        \n",
    "        x1 = int(round(x_out))-half_width+k_iteration*iteration_step\n",
    "        x2 = int(round(x_out))+half_width-k_iteration*iteration_step\n",
    "        y1 = int(round(y_out))-half_width+k_iteration*iteration_step\n",
    "        y2 = int(round(y_out))+half_width-k_iteration*iteration_step\n",
    "\n",
    "        for x in range(x1,x2+1):\n",
    "            for y in range(y1,y2+1):\n",
    "\n",
    "                # not sure if it's better to cast with python's float()\n",
    "                # or c's <float>:\n",
    "                pixel = float(spots[y,x])-background\n",
    "\n",
    "                if pixel<0.0:\n",
    "                    pixel = 0.0\n",
    "                    \n",
    "                xprod = xprod + pixel*x\n",
    "                yprod = yprod + pixel*y\n",
    "                intensity = intensity + pixel\n",
    "\n",
    "        x_out = xprod/intensity\n",
    "        y_out = yprod/intensity\n",
    "    \n",
    "    return x_out,y_out"
   ]
  }
 ],
 "metadata": {
  "kernelspec": {
   "display_name": "Python 2",
   "language": "python",
   "name": "python2"
  },
  "language_info": {
   "codemirror_mode": {
    "name": "ipython",
    "version": 2
   },
   "file_extension": ".py",
   "mimetype": "text/x-python",
   "name": "python",
   "nbconvert_exporter": "python",
   "pygments_lexer": "ipython2",
   "version": "2.7.18"
  }
 },
 "nbformat": 4,
 "nbformat_minor": 2
}
